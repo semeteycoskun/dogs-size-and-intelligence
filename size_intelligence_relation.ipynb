{
 "cells": [
  {
   "cell_type": "markdown",
   "id": "dbc5b477",
   "metadata": {},
   "source": [
    "# Is it really linked that? Are small dogs smarter big dogs?\n",
    "\n",
    "We will review the relation between the dog sizes and intelligence. Gods intelligence is measured by obey and reps. Obey refers to command count, how many command after dog executes the command. And reps stands for how many reps are needed by dog to understand the one command. \n",
    "\n",
    "You can download the data from link below.\n",
    "\n",
    "https://data.world/len/dog-size-intelligence-linked\n",
    "    \n",
    "First review the data.\n",
    "    "
   ]
  },
  {
   "cell_type": "markdown",
   "id": "2ec7c6cb",
   "metadata": {},
   "source": [
    "## Analyse Data\n",
    "\n",
    "While analysing data we will use the pandas, numpy libraries for data processing and searborn libraries for the visualize the data. You can see the how to use those libraries in the next sections."
   ]
  },
  {
   "cell_type": "code",
   "execution_count": 87,
   "id": "24e73e8b",
   "metadata": {},
   "outputs": [
    {
     "data": {
      "text/html": [
       "<div>\n",
       "<style scoped>\n",
       "    .dataframe tbody tr th:only-of-type {\n",
       "        vertical-align: middle;\n",
       "    }\n",
       "\n",
       "    .dataframe tbody tr th {\n",
       "        vertical-align: top;\n",
       "    }\n",
       "\n",
       "    .dataframe thead th {\n",
       "        text-align: right;\n",
       "    }\n",
       "</style>\n",
       "<table border=\"1\" class=\"dataframe\">\n",
       "  <thead>\n",
       "    <tr style=\"text-align: right;\">\n",
       "      <th></th>\n",
       "      <th>Breed</th>\n",
       "      <th>height_low_inches</th>\n",
       "      <th>height_high_inches</th>\n",
       "      <th>weight_low_lbs</th>\n",
       "      <th>weight_high_lbs</th>\n",
       "    </tr>\n",
       "  </thead>\n",
       "  <tbody>\n",
       "    <tr>\n",
       "      <th>0</th>\n",
       "      <td>Akita</td>\n",
       "      <td>26</td>\n",
       "      <td>28</td>\n",
       "      <td>80</td>\n",
       "      <td>120</td>\n",
       "    </tr>\n",
       "    <tr>\n",
       "      <th>1</th>\n",
       "      <td>Anatolian Sheepdog</td>\n",
       "      <td>27</td>\n",
       "      <td>29</td>\n",
       "      <td>100</td>\n",
       "      <td>150</td>\n",
       "    </tr>\n",
       "    <tr>\n",
       "      <th>2</th>\n",
       "      <td>Bernese Mountain Dog</td>\n",
       "      <td>23</td>\n",
       "      <td>27</td>\n",
       "      <td>85</td>\n",
       "      <td>110</td>\n",
       "    </tr>\n",
       "    <tr>\n",
       "      <th>3</th>\n",
       "      <td>Bloodhound</td>\n",
       "      <td>24</td>\n",
       "      <td>26</td>\n",
       "      <td>80</td>\n",
       "      <td>120</td>\n",
       "    </tr>\n",
       "    <tr>\n",
       "      <th>4</th>\n",
       "      <td>Borzoi</td>\n",
       "      <td>26</td>\n",
       "      <td>28</td>\n",
       "      <td>70</td>\n",
       "      <td>100</td>\n",
       "    </tr>\n",
       "  </tbody>\n",
       "</table>\n",
       "</div>"
      ],
      "text/plain": [
       "                  Breed height_low_inches height_high_inches weight_low_lbs  \\\n",
       "0                 Akita                26                 28             80   \n",
       "1    Anatolian Sheepdog                27                 29            100   \n",
       "2  Bernese Mountain Dog                23                 27             85   \n",
       "3            Bloodhound                24                 26             80   \n",
       "4                Borzoi                26                 28             70   \n",
       "\n",
       "  weight_high_lbs  \n",
       "0             120  \n",
       "1             150  \n",
       "2             110  \n",
       "3             120  \n",
       "4             100  "
      ]
     },
     "execution_count": 87,
     "metadata": {},
     "output_type": "execute_result"
    }
   ],
   "source": [
    "import pandas as pd\n",
    "import numpy as np\n",
    "import seaborn as sns\n",
    "%matplotlib inline\n",
    "\n",
    "# Get info of related breeds\n",
    "breed_info_df = pd.read_csv(\"breed_info.csv\", na_filter = False)\n",
    "breed_info_df.head()"
   ]
  },
  {
   "cell_type": "markdown",
   "id": "6f613ca4",
   "metadata": {},
   "source": [
    "So, in the breeds data we have breeds and size limits of of the related dog breeds. Let's look at the data types of the columns:"
   ]
  },
  {
   "cell_type": "code",
   "execution_count": 88,
   "id": "62a9fe42",
   "metadata": {},
   "outputs": [
    {
     "data": {
      "text/plain": [
       "Breed                 object\n",
       "height_low_inches     object\n",
       "height_high_inches    object\n",
       "weight_low_lbs        object\n",
       "weight_high_lbs       object\n",
       "dtype: object"
      ]
     },
     "execution_count": 88,
     "metadata": {},
     "output_type": "execute_result"
    }
   ],
   "source": [
    "breed_info_df.dtypes"
   ]
  },
  {
   "cell_type": "markdown",
   "id": "5add92cf",
   "metadata": {},
   "source": [
    "All of the types are object. For the mathematical processes we would need to convert size related columns to __numeric__ types."
   ]
  },
  {
   "cell_type": "code",
   "execution_count": 89,
   "id": "f9267c40",
   "metadata": {},
   "outputs": [
    {
     "data": {
      "text/html": [
       "<div>\n",
       "<style scoped>\n",
       "    .dataframe tbody tr th:only-of-type {\n",
       "        vertical-align: middle;\n",
       "    }\n",
       "\n",
       "    .dataframe tbody tr th {\n",
       "        vertical-align: top;\n",
       "    }\n",
       "\n",
       "    .dataframe thead th {\n",
       "        text-align: right;\n",
       "    }\n",
       "</style>\n",
       "<table border=\"1\" class=\"dataframe\">\n",
       "  <thead>\n",
       "    <tr style=\"text-align: right;\">\n",
       "      <th></th>\n",
       "      <th>Breed</th>\n",
       "      <th>Classification</th>\n",
       "      <th>obey</th>\n",
       "      <th>reps_lower</th>\n",
       "      <th>reps_upper</th>\n",
       "    </tr>\n",
       "  </thead>\n",
       "  <tbody>\n",
       "    <tr>\n",
       "      <th>0</th>\n",
       "      <td>Border Collie</td>\n",
       "      <td>Brightest Dogs</td>\n",
       "      <td>95%</td>\n",
       "      <td>1</td>\n",
       "      <td>4</td>\n",
       "    </tr>\n",
       "    <tr>\n",
       "      <th>1</th>\n",
       "      <td>Poodle</td>\n",
       "      <td>Brightest Dogs</td>\n",
       "      <td>95%</td>\n",
       "      <td>1</td>\n",
       "      <td>4</td>\n",
       "    </tr>\n",
       "    <tr>\n",
       "      <th>2</th>\n",
       "      <td>German Shepherd</td>\n",
       "      <td>Brightest Dogs</td>\n",
       "      <td>95%</td>\n",
       "      <td>1</td>\n",
       "      <td>4</td>\n",
       "    </tr>\n",
       "    <tr>\n",
       "      <th>3</th>\n",
       "      <td>Golden Retriever</td>\n",
       "      <td>Brightest Dogs</td>\n",
       "      <td>95%</td>\n",
       "      <td>1</td>\n",
       "      <td>4</td>\n",
       "    </tr>\n",
       "    <tr>\n",
       "      <th>4</th>\n",
       "      <td>Doberman Pinscher</td>\n",
       "      <td>Brightest Dogs</td>\n",
       "      <td>95%</td>\n",
       "      <td>1</td>\n",
       "      <td>4</td>\n",
       "    </tr>\n",
       "  </tbody>\n",
       "</table>\n",
       "</div>"
      ],
      "text/plain": [
       "               Breed  Classification obey  reps_lower  reps_upper\n",
       "0      Border Collie  Brightest Dogs  95%           1           4\n",
       "1             Poodle  Brightest Dogs  95%           1           4\n",
       "2    German Shepherd  Brightest Dogs  95%           1           4\n",
       "3   Golden Retriever  Brightest Dogs  95%           1           4\n",
       "4  Doberman Pinscher  Brightest Dogs  95%           1           4"
      ]
     },
     "execution_count": 89,
     "metadata": {},
     "output_type": "execute_result"
    }
   ],
   "source": [
    "# Get intelligence info of related breeds\n",
    "dog_intelligence_df = pd.read_csv(\"dog_intelligence.csv\", na_filter = False)\n",
    "dog_intelligence_df.head()"
   ]
  },
  {
   "cell_type": "markdown",
   "id": "44b2850a",
   "metadata": {},
   "source": [
    "In the intelligence data we have the obey ratio and the min/max reps for the related dogs which we already mentioned in the introduction of this article."
   ]
  },
  {
   "cell_type": "code",
   "execution_count": 90,
   "id": "a2abceab",
   "metadata": {},
   "outputs": [
    {
     "data": {
      "text/plain": [
       "Breed             object\n",
       "Classification    object\n",
       "obey              object\n",
       "reps_lower         int64\n",
       "reps_upper         int64\n",
       "dtype: object"
      ]
     },
     "execution_count": 90,
     "metadata": {},
     "output_type": "execute_result"
    }
   ],
   "source": [
    "dog_intelligence_df.dtypes"
   ]
  },
  {
   "cell_type": "markdown",
   "id": "d78420c9",
   "metadata": {},
   "source": [
    "Reps related fields seems OK for the mathematical processing but we need some transformation on the obey field to convert it to a numeric type.\n",
    "\n",
    "We will need to join thoese two different data set to make it meainingful and it's obvious that we can join those datasets based on the __Breed__ field.\n",
    "\n",
    "Before joining the datasets we need some analyse as well. Let's continue to review datasets and data."
   ]
  },
  {
   "cell_type": "code",
   "execution_count": 91,
   "id": "e839ed63",
   "metadata": {},
   "outputs": [
    {
     "name": "stdout",
     "output_type": "stream",
     "text": [
      "Row Count: 150 Col. Count: 5\n"
     ]
    }
   ],
   "source": [
    "# Check row count values of breed info\n",
    "num_rows = breed_info_df.shape[0] \n",
    "num_cols = breed_info_df.shape[1] \n",
    "\n",
    "print (\"Row Count: \" + str(num_rows) + \" Col. Count: \" + str(num_cols))"
   ]
  },
  {
   "cell_type": "markdown",
   "id": "477529b2",
   "metadata": {},
   "source": [
    "## Dealing with missing values"
   ]
  },
  {
   "cell_type": "code",
   "execution_count": 92,
   "id": "3dd89c4f",
   "metadata": {},
   "outputs": [
    {
     "data": {
      "text/plain": [
       "set()"
      ]
     },
     "execution_count": 92,
     "metadata": {},
     "output_type": "execute_result"
    }
   ],
   "source": [
    "# Check missing values of breed info\n",
    "set(breed_info_df.columns[np.sum(breed_info_df.isnull()) != 0])"
   ]
  },
  {
   "cell_type": "markdown",
   "id": "a5c44622",
   "metadata": {},
   "source": [
    "No missing value for breed info dataset. Let's check the intelligence info as well:"
   ]
  },
  {
   "cell_type": "code",
   "execution_count": 93,
   "id": "a9acb4ab",
   "metadata": {},
   "outputs": [
    {
     "name": "stdout",
     "output_type": "stream",
     "text": [
      "Row Count: 136 Col. Count: 5\n"
     ]
    }
   ],
   "source": [
    "# Check row count values of intelligence info\n",
    "num_rows = dog_intelligence_df.shape[0] \n",
    "num_cols = dog_intelligence_df.shape[1] \n",
    "\n",
    "print (\"Row Count: \" + str(num_rows) + \" Col. Count: \" + str(num_cols))"
   ]
  },
  {
   "cell_type": "markdown",
   "id": "987b76b0",
   "metadata": {},
   "source": [
    "It seems we don't have intelligence (136 rows) info for all breeds (150 rows) according to row counts."
   ]
  },
  {
   "cell_type": "code",
   "execution_count": 94,
   "id": "e3002ecc",
   "metadata": {},
   "outputs": [
    {
     "data": {
      "text/plain": [
       "set()"
      ]
     },
     "execution_count": 94,
     "metadata": {},
     "output_type": "execute_result"
    }
   ],
   "source": [
    "# Check missing values of intelligence info\n",
    "set(dog_intelligence_df.columns[np.sum(dog_intelligence_df.isnull()) != 0])"
   ]
  },
  {
   "cell_type": "markdown",
   "id": "a634368f",
   "metadata": {},
   "source": [
    "Just in one column (obey) we have missing values. Let's review them and also we need to merge two dataframes. And then must review again after merge is there any missing values."
   ]
  },
  {
   "cell_type": "code",
   "execution_count": 95,
   "id": "72bf3be0",
   "metadata": {},
   "outputs": [
    {
     "data": {
      "text/html": [
       "<div>\n",
       "<style scoped>\n",
       "    .dataframe tbody tr th:only-of-type {\n",
       "        vertical-align: middle;\n",
       "    }\n",
       "\n",
       "    .dataframe tbody tr th {\n",
       "        vertical-align: top;\n",
       "    }\n",
       "\n",
       "    .dataframe thead th {\n",
       "        text-align: right;\n",
       "    }\n",
       "</style>\n",
       "<table border=\"1\" class=\"dataframe\">\n",
       "  <thead>\n",
       "    <tr style=\"text-align: right;\">\n",
       "      <th></th>\n",
       "      <th>Breed</th>\n",
       "      <th>Classification</th>\n",
       "      <th>obey</th>\n",
       "      <th>reps_lower</th>\n",
       "      <th>reps_upper</th>\n",
       "    </tr>\n",
       "  </thead>\n",
       "  <tbody>\n",
       "  </tbody>\n",
       "</table>\n",
       "</div>"
      ],
      "text/plain": [
       "Empty DataFrame\n",
       "Columns: [Breed, Classification, obey, reps_lower, reps_upper]\n",
       "Index: []"
      ]
     },
     "execution_count": 95,
     "metadata": {},
     "output_type": "execute_result"
    }
   ],
   "source": [
    "# check null values of the intelligence dataset\n",
    "dog_intelligence_df.query('obey.isnull()')"
   ]
  },
  {
   "cell_type": "code",
   "execution_count": 96,
   "id": "2527dc73",
   "metadata": {},
   "outputs": [
    {
     "data": {
      "text/plain": [
       "(136, 9)"
      ]
     },
     "execution_count": 96,
     "metadata": {},
     "output_type": "execute_result"
    }
   ],
   "source": [
    "# Merge two dataframe into one dataframe based on the Breed column\n",
    "df = dog_intelligence_df.merge(breed_info_df, on = 'Breed', how = 'left')\n",
    "df.shape"
   ]
  },
  {
   "cell_type": "code",
   "execution_count": 97,
   "id": "99be374d",
   "metadata": {},
   "outputs": [
    {
     "data": {
      "text/html": [
       "<div>\n",
       "<style scoped>\n",
       "    .dataframe tbody tr th:only-of-type {\n",
       "        vertical-align: middle;\n",
       "    }\n",
       "\n",
       "    .dataframe tbody tr th {\n",
       "        vertical-align: top;\n",
       "    }\n",
       "\n",
       "    .dataframe thead th {\n",
       "        text-align: right;\n",
       "    }\n",
       "</style>\n",
       "<table border=\"1\" class=\"dataframe\">\n",
       "  <thead>\n",
       "    <tr style=\"text-align: right;\">\n",
       "      <th></th>\n",
       "      <th>Breed</th>\n",
       "      <th>Classification</th>\n",
       "      <th>obey</th>\n",
       "      <th>reps_lower</th>\n",
       "      <th>reps_upper</th>\n",
       "      <th>height_low_inches</th>\n",
       "      <th>height_high_inches</th>\n",
       "      <th>weight_low_lbs</th>\n",
       "      <th>weight_high_lbs</th>\n",
       "    </tr>\n",
       "  </thead>\n",
       "  <tbody>\n",
       "    <tr>\n",
       "      <th>0</th>\n",
       "      <td>Border Collie</td>\n",
       "      <td>Brightest Dogs</td>\n",
       "      <td>95%</td>\n",
       "      <td>1</td>\n",
       "      <td>4</td>\n",
       "      <td>19</td>\n",
       "      <td>21</td>\n",
       "      <td>40</td>\n",
       "      <td>40</td>\n",
       "    </tr>\n",
       "    <tr>\n",
       "      <th>1</th>\n",
       "      <td>Poodle</td>\n",
       "      <td>Brightest Dogs</td>\n",
       "      <td>95%</td>\n",
       "      <td>1</td>\n",
       "      <td>4</td>\n",
       "      <td>NaN</td>\n",
       "      <td>NaN</td>\n",
       "      <td>NaN</td>\n",
       "      <td>NaN</td>\n",
       "    </tr>\n",
       "    <tr>\n",
       "      <th>2</th>\n",
       "      <td>German Shepherd</td>\n",
       "      <td>Brightest Dogs</td>\n",
       "      <td>95%</td>\n",
       "      <td>1</td>\n",
       "      <td>4</td>\n",
       "      <td>NaN</td>\n",
       "      <td>NaN</td>\n",
       "      <td>NaN</td>\n",
       "      <td>NaN</td>\n",
       "    </tr>\n",
       "    <tr>\n",
       "      <th>3</th>\n",
       "      <td>Golden Retriever</td>\n",
       "      <td>Brightest Dogs</td>\n",
       "      <td>95%</td>\n",
       "      <td>1</td>\n",
       "      <td>4</td>\n",
       "      <td>21</td>\n",
       "      <td>24</td>\n",
       "      <td>55</td>\n",
       "      <td>75</td>\n",
       "    </tr>\n",
       "    <tr>\n",
       "      <th>4</th>\n",
       "      <td>Doberman Pinscher</td>\n",
       "      <td>Brightest Dogs</td>\n",
       "      <td>95%</td>\n",
       "      <td>1</td>\n",
       "      <td>4</td>\n",
       "      <td>26</td>\n",
       "      <td>28</td>\n",
       "      <td>60</td>\n",
       "      <td>100</td>\n",
       "    </tr>\n",
       "  </tbody>\n",
       "</table>\n",
       "</div>"
      ],
      "text/plain": [
       "               Breed  Classification obey  reps_lower  reps_upper  \\\n",
       "0      Border Collie  Brightest Dogs  95%           1           4   \n",
       "1             Poodle  Brightest Dogs  95%           1           4   \n",
       "2    German Shepherd  Brightest Dogs  95%           1           4   \n",
       "3   Golden Retriever  Brightest Dogs  95%           1           4   \n",
       "4  Doberman Pinscher  Brightest Dogs  95%           1           4   \n",
       "\n",
       "  height_low_inches height_high_inches weight_low_lbs weight_high_lbs  \n",
       "0                19                 21             40              40  \n",
       "1               NaN                NaN            NaN             NaN  \n",
       "2               NaN                NaN            NaN             NaN  \n",
       "3                21                 24             55              75  \n",
       "4                26                 28             60             100  "
      ]
     },
     "execution_count": 97,
     "metadata": {},
     "output_type": "execute_result"
    }
   ],
   "source": [
    "df.head()"
   ]
  },
  {
   "cell_type": "markdown",
   "id": "5781abad",
   "metadata": {},
   "source": [
    "Even if we don't have any missing data on the datasets when we merge those we can see that we have some missing values. We already sensed that while comparing row counts of the datasets (150 & 136). Lets check and take action for the missing values."
   ]
  },
  {
   "cell_type": "code",
   "execution_count": 98,
   "id": "6e8e5078",
   "metadata": {},
   "outputs": [
    {
     "data": {
      "text/plain": [
       "{'height_high_inches',\n",
       " 'height_low_inches',\n",
       " 'weight_high_lbs',\n",
       " 'weight_low_lbs'}"
      ]
     },
     "execution_count": 98,
     "metadata": {},
     "output_type": "execute_result"
    }
   ],
   "source": [
    "# Get column names which have missing values\n",
    "set(df.columns[np.sum(df.isnull()) != 0])"
   ]
  },
  {
   "cell_type": "code",
   "execution_count": 99,
   "id": "00aee34a",
   "metadata": {},
   "outputs": [
    {
     "data": {
      "text/plain": [
       "(31, 9)"
      ]
     },
     "execution_count": 99,
     "metadata": {},
     "output_type": "execute_result"
    }
   ],
   "source": [
    "# Get rows which contain missing values\n",
    "df.query('height_high_inches.isnull() & height_low_inches.isnull() & weight_high_lbs.isnull() & weight_low_lbs.isnull()').shape"
   ]
  },
  {
   "cell_type": "markdown",
   "id": "064c7cae",
   "metadata": {},
   "source": [
    "31 rows evaluated as missing values but we can do some additional check. Some datasets can contain values which can be evaluated as missing values like 'na'. So we may need to check those values as well:"
   ]
  },
  {
   "cell_type": "code",
   "execution_count": 100,
   "id": "69436ae3",
   "metadata": {},
   "outputs": [
    {
     "data": {
      "text/plain": [
       "(32, 9)"
      ]
     },
     "execution_count": 100,
     "metadata": {},
     "output_type": "execute_result"
    }
   ],
   "source": [
    "# if there is a string value as na, evaluate those as missing values.\n",
    "df.replace('na', np.nan, inplace=True)\n",
    "df.replace('n/a', np.nan, inplace=True)\n",
    "df.query('height_high_inches.isnull() & height_low_inches.isnull() & weight_high_lbs.isnull() & weight_low_lbs.isnull()').shape\n",
    "#df.query('height_high_inches.isnull() & height_low_inches.isnull() & weight_high_lbs.isnull() & weight_low_lbs.isnull()')"
   ]
  },
  {
   "cell_type": "markdown",
   "id": "68619e90",
   "metadata": {},
   "source": [
    "As we can see we have one row which contains __na__ as value which does not make sense for the size info. Let's check the row:"
   ]
  },
  {
   "cell_type": "code",
   "execution_count": 101,
   "id": "9fc9db56",
   "metadata": {},
   "outputs": [
    {
     "data": {
      "text/html": [
       "<div>\n",
       "<style scoped>\n",
       "    .dataframe tbody tr th:only-of-type {\n",
       "        vertical-align: middle;\n",
       "    }\n",
       "\n",
       "    .dataframe tbody tr th {\n",
       "        vertical-align: top;\n",
       "    }\n",
       "\n",
       "    .dataframe thead th {\n",
       "        text-align: right;\n",
       "    }\n",
       "</style>\n",
       "<table border=\"1\" class=\"dataframe\">\n",
       "  <thead>\n",
       "    <tr style=\"text-align: right;\">\n",
       "      <th></th>\n",
       "      <th>Breed</th>\n",
       "      <th>Classification</th>\n",
       "      <th>obey</th>\n",
       "      <th>reps_lower</th>\n",
       "      <th>reps_upper</th>\n",
       "      <th>height_low_inches</th>\n",
       "      <th>height_high_inches</th>\n",
       "      <th>weight_low_lbs</th>\n",
       "      <th>weight_high_lbs</th>\n",
       "    </tr>\n",
       "  </thead>\n",
       "  <tbody>\n",
       "  </tbody>\n",
       "</table>\n",
       "</div>"
      ],
      "text/plain": [
       "Empty DataFrame\n",
       "Columns: [Breed, Classification, obey, reps_lower, reps_upper, height_low_inches, height_high_inches, weight_low_lbs, weight_high_lbs]\n",
       "Index: []"
      ]
     },
     "execution_count": 101,
     "metadata": {},
     "output_type": "execute_result"
    }
   ],
   "source": [
    "df.loc[df['weight_high_lbs'] == 'na']"
   ]
  },
  {
   "cell_type": "markdown",
   "id": "d8310617",
   "metadata": {},
   "source": [
    "Those rows does not contain any size info for the related breeds. So we can drop those because we don't have any size info, none of them (height and weight). In my opinion imputing those values don't make sense because for imputing we just have intelligence info and we already trying to get relation between breed size and intelligence. So we can ingore those rows by dropping them:"
   ]
  },
  {
   "cell_type": "code",
   "execution_count": 104,
   "id": "19ed07a8",
   "metadata": {},
   "outputs": [
    {
     "data": {
      "text/html": [
       "<div>\n",
       "<style scoped>\n",
       "    .dataframe tbody tr th:only-of-type {\n",
       "        vertical-align: middle;\n",
       "    }\n",
       "\n",
       "    .dataframe tbody tr th {\n",
       "        vertical-align: top;\n",
       "    }\n",
       "\n",
       "    .dataframe thead th {\n",
       "        text-align: right;\n",
       "    }\n",
       "</style>\n",
       "<table border=\"1\" class=\"dataframe\">\n",
       "  <thead>\n",
       "    <tr style=\"text-align: right;\">\n",
       "      <th></th>\n",
       "      <th>Breed</th>\n",
       "      <th>Classification</th>\n",
       "      <th>obey</th>\n",
       "      <th>reps_lower</th>\n",
       "      <th>reps_upper</th>\n",
       "      <th>height_low_inches</th>\n",
       "      <th>height_high_inches</th>\n",
       "      <th>weight_low_lbs</th>\n",
       "      <th>weight_high_lbs</th>\n",
       "    </tr>\n",
       "  </thead>\n",
       "  <tbody>\n",
       "  </tbody>\n",
       "</table>\n",
       "</div>"
      ],
      "text/plain": [
       "Empty DataFrame\n",
       "Columns: [Breed, Classification, obey, reps_lower, reps_upper, height_low_inches, height_high_inches, weight_low_lbs, weight_high_lbs]\n",
       "Index: []"
      ]
     },
     "execution_count": 104,
     "metadata": {},
     "output_type": "execute_result"
    }
   ],
   "source": [
    "# if we have no any size info we can ignore the data. \n",
    "df = df.drop(df.query('height_high_inches.isnull() & height_low_inches.isnull() & weight_high_lbs.isnull() & weight_low_lbs.isnull()').index)\n",
    "df.query('height_high_inches.isnull() & height_low_inches.isnull() & weight_high_lbs.isnull() & weight_low_lbs.isnull()')"
   ]
  },
  {
   "cell_type": "markdown",
   "id": "f72f2341",
   "metadata": {},
   "source": [
    "And another field which we have missing values in it is obey column, but for this column we have some other info like reps upper and reps lower. So we may impute the values maybe after some review and analyse as well."
   ]
  },
  {
   "cell_type": "code",
   "execution_count": 115,
   "id": "ef57362b",
   "metadata": {},
   "outputs": [
    {
     "data": {
      "text/html": [
       "<div>\n",
       "<style scoped>\n",
       "    .dataframe tbody tr th:only-of-type {\n",
       "        vertical-align: middle;\n",
       "    }\n",
       "\n",
       "    .dataframe tbody tr th {\n",
       "        vertical-align: top;\n",
       "    }\n",
       "\n",
       "    .dataframe thead th {\n",
       "        text-align: right;\n",
       "    }\n",
       "</style>\n",
       "<table border=\"1\" class=\"dataframe\">\n",
       "  <thead>\n",
       "    <tr style=\"text-align: right;\">\n",
       "      <th></th>\n",
       "      <th>Breed</th>\n",
       "      <th>Classification</th>\n",
       "      <th>obey</th>\n",
       "      <th>reps_lower</th>\n",
       "      <th>reps_upper</th>\n",
       "      <th>height_low_inches</th>\n",
       "      <th>height_high_inches</th>\n",
       "      <th>weight_low_lbs</th>\n",
       "      <th>weight_high_lbs</th>\n",
       "    </tr>\n",
       "  </thead>\n",
       "  <tbody>\n",
       "    <tr>\n",
       "      <th>125</th>\n",
       "      <td>Shih Tzu</td>\n",
       "      <td>Lowest Degree of Working/Obedience Intelligence</td>\n",
       "      <td>NaN</td>\n",
       "      <td>81</td>\n",
       "      <td>100</td>\n",
       "      <td>8.0</td>\n",
       "      <td>11.0</td>\n",
       "      <td>9</td>\n",
       "      <td>16</td>\n",
       "    </tr>\n",
       "    <tr>\n",
       "      <th>126</th>\n",
       "      <td>Basset Hound</td>\n",
       "      <td>Lowest Degree of Working/Obedience Intelligence</td>\n",
       "      <td>NaN</td>\n",
       "      <td>81</td>\n",
       "      <td>100</td>\n",
       "      <td>14.0</td>\n",
       "      <td>14.0</td>\n",
       "      <td>40</td>\n",
       "      <td>50</td>\n",
       "    </tr>\n",
       "    <tr>\n",
       "      <th>127</th>\n",
       "      <td>Mastiff</td>\n",
       "      <td>Lowest Degree of Working/Obedience Intelligence</td>\n",
       "      <td>NaN</td>\n",
       "      <td>81</td>\n",
       "      <td>100</td>\n",
       "      <td>27.0</td>\n",
       "      <td>30.0</td>\n",
       "      <td>175</td>\n",
       "      <td>190</td>\n",
       "    </tr>\n",
       "    <tr>\n",
       "      <th>128</th>\n",
       "      <td>Beagle</td>\n",
       "      <td>Lowest Degree of Working/Obedience Intelligence</td>\n",
       "      <td>NaN</td>\n",
       "      <td>81</td>\n",
       "      <td>100</td>\n",
       "      <td>13.0</td>\n",
       "      <td>16.0</td>\n",
       "      <td>18</td>\n",
       "      <td>30</td>\n",
       "    </tr>\n",
       "    <tr>\n",
       "      <th>130</th>\n",
       "      <td>Bloodhound</td>\n",
       "      <td>Lowest Degree of Working/Obedience Intelligence</td>\n",
       "      <td>NaN</td>\n",
       "      <td>81</td>\n",
       "      <td>100</td>\n",
       "      <td>24.0</td>\n",
       "      <td>26.0</td>\n",
       "      <td>80</td>\n",
       "      <td>120</td>\n",
       "    </tr>\n",
       "    <tr>\n",
       "      <th>131</th>\n",
       "      <td>Borzoi</td>\n",
       "      <td>Lowest Degree of Working/Obedience Intelligence</td>\n",
       "      <td>NaN</td>\n",
       "      <td>81</td>\n",
       "      <td>100</td>\n",
       "      <td>26.0</td>\n",
       "      <td>28.0</td>\n",
       "      <td>70</td>\n",
       "      <td>100</td>\n",
       "    </tr>\n",
       "    <tr>\n",
       "      <th>132</th>\n",
       "      <td>Chow Chow</td>\n",
       "      <td>Lowest Degree of Working/Obedience Intelligence</td>\n",
       "      <td>NaN</td>\n",
       "      <td>81</td>\n",
       "      <td>100</td>\n",
       "      <td>19.0</td>\n",
       "      <td>22.0</td>\n",
       "      <td>45</td>\n",
       "      <td>55</td>\n",
       "    </tr>\n",
       "    <tr>\n",
       "      <th>134</th>\n",
       "      <td>Basenji</td>\n",
       "      <td>Lowest Degree of Working/Obedience Intelligence</td>\n",
       "      <td>NaN</td>\n",
       "      <td>81</td>\n",
       "      <td>100</td>\n",
       "      <td>17.0</td>\n",
       "      <td>17.0</td>\n",
       "      <td>20</td>\n",
       "      <td>22</td>\n",
       "    </tr>\n",
       "    <tr>\n",
       "      <th>135</th>\n",
       "      <td>Afghan Hound</td>\n",
       "      <td>Lowest Degree of Working/Obedience Intelligence</td>\n",
       "      <td>NaN</td>\n",
       "      <td>81</td>\n",
       "      <td>100</td>\n",
       "      <td>25.0</td>\n",
       "      <td>27.0</td>\n",
       "      <td>50</td>\n",
       "      <td>60</td>\n",
       "    </tr>\n",
       "  </tbody>\n",
       "</table>\n",
       "</div>"
      ],
      "text/plain": [
       "            Breed                                    Classification  obey  \\\n",
       "125      Shih Tzu  Lowest Degree of Working/Obedience Intelligence    NaN   \n",
       "126  Basset Hound  Lowest Degree of Working/Obedience Intelligence    NaN   \n",
       "127       Mastiff  Lowest Degree of Working/Obedience Intelligence    NaN   \n",
       "128        Beagle  Lowest Degree of Working/Obedience Intelligence    NaN   \n",
       "130    Bloodhound  Lowest Degree of Working/Obedience Intelligence    NaN   \n",
       "131        Borzoi  Lowest Degree of Working/Obedience Intelligence    NaN   \n",
       "132     Chow Chow  Lowest Degree of Working/Obedience Intelligence    NaN   \n",
       "134       Basenji  Lowest Degree of Working/Obedience Intelligence    NaN   \n",
       "135  Afghan Hound  Lowest Degree of Working/Obedience Intelligence    NaN   \n",
       "\n",
       "     reps_lower  reps_upper  height_low_inches  height_high_inches  \\\n",
       "125          81         100                8.0                11.0   \n",
       "126          81         100               14.0                14.0   \n",
       "127          81         100               27.0                30.0   \n",
       "128          81         100               13.0                16.0   \n",
       "130          81         100               24.0                26.0   \n",
       "131          81         100               26.0                28.0   \n",
       "132          81         100               19.0                22.0   \n",
       "134          81         100               17.0                17.0   \n",
       "135          81         100               25.0                27.0   \n",
       "\n",
       "     weight_low_lbs  weight_high_lbs  \n",
       "125               9               16  \n",
       "126              40               50  \n",
       "127             175              190  \n",
       "128              18               30  \n",
       "130              80              120  \n",
       "131              70              100  \n",
       "132              45               55  \n",
       "134              20               22  \n",
       "135              50               60  "
      ]
     },
     "execution_count": 115,
     "metadata": {},
     "output_type": "execute_result"
    }
   ],
   "source": [
    "df.query('obey.isnull()')"
   ]
  },
  {
   "cell_type": "markdown",
   "id": "6d034f69",
   "metadata": {},
   "source": [
    "Firstly, we need to convert the column types to numeric one for aggretaion and mathematical processes to be able make further analyse. Let's re-check the column data types:"
   ]
  },
  {
   "cell_type": "code",
   "execution_count": 116,
   "id": "11615c00",
   "metadata": {},
   "outputs": [
    {
     "data": {
      "text/plain": [
       "Breed                  object\n",
       "Classification         object\n",
       "obey                  float64\n",
       "reps_lower              int64\n",
       "reps_upper              int64\n",
       "height_low_inches     float64\n",
       "height_high_inches    float64\n",
       "weight_low_lbs          int64\n",
       "weight_high_lbs         int64\n",
       "dtype: object"
      ]
     },
     "execution_count": 116,
     "metadata": {},
     "output_type": "execute_result"
    }
   ],
   "source": [
    "df.dtypes"
   ]
  },
  {
   "cell_type": "markdown",
   "id": "db7edb63",
   "metadata": {},
   "source": [
    "Please remember that __obey__ field is refers to ratio and this data include __%__ charachter in it. So before convert this column to a numeric field, firstly we need to remove __%__ characthers from the data."
   ]
  },
  {
   "cell_type": "code",
   "execution_count": 117,
   "id": "82bf595c",
   "metadata": {},
   "outputs": [
    {
     "data": {
      "text/html": [
       "<div>\n",
       "<style scoped>\n",
       "    .dataframe tbody tr th:only-of-type {\n",
       "        vertical-align: middle;\n",
       "    }\n",
       "\n",
       "    .dataframe tbody tr th {\n",
       "        vertical-align: top;\n",
       "    }\n",
       "\n",
       "    .dataframe thead th {\n",
       "        text-align: right;\n",
       "    }\n",
       "</style>\n",
       "<table border=\"1\" class=\"dataframe\">\n",
       "  <thead>\n",
       "    <tr style=\"text-align: right;\">\n",
       "      <th></th>\n",
       "      <th>Breed</th>\n",
       "      <th>Classification</th>\n",
       "      <th>obey</th>\n",
       "      <th>reps_lower</th>\n",
       "      <th>reps_upper</th>\n",
       "      <th>height_low_inches</th>\n",
       "      <th>height_high_inches</th>\n",
       "      <th>weight_low_lbs</th>\n",
       "      <th>weight_high_lbs</th>\n",
       "    </tr>\n",
       "  </thead>\n",
       "  <tbody>\n",
       "    <tr>\n",
       "      <th>0</th>\n",
       "      <td>Border Collie</td>\n",
       "      <td>Brightest Dogs</td>\n",
       "      <td>95.0</td>\n",
       "      <td>1</td>\n",
       "      <td>4</td>\n",
       "      <td>19.0</td>\n",
       "      <td>21.0</td>\n",
       "      <td>40</td>\n",
       "      <td>40</td>\n",
       "    </tr>\n",
       "    <tr>\n",
       "      <th>3</th>\n",
       "      <td>Golden Retriever</td>\n",
       "      <td>Brightest Dogs</td>\n",
       "      <td>95.0</td>\n",
       "      <td>1</td>\n",
       "      <td>4</td>\n",
       "      <td>21.0</td>\n",
       "      <td>24.0</td>\n",
       "      <td>55</td>\n",
       "      <td>75</td>\n",
       "    </tr>\n",
       "    <tr>\n",
       "      <th>4</th>\n",
       "      <td>Doberman Pinscher</td>\n",
       "      <td>Brightest Dogs</td>\n",
       "      <td>95.0</td>\n",
       "      <td>1</td>\n",
       "      <td>4</td>\n",
       "      <td>26.0</td>\n",
       "      <td>28.0</td>\n",
       "      <td>60</td>\n",
       "      <td>100</td>\n",
       "    </tr>\n",
       "    <tr>\n",
       "      <th>6</th>\n",
       "      <td>Labrador Retriever</td>\n",
       "      <td>Brightest Dogs</td>\n",
       "      <td>95.0</td>\n",
       "      <td>1</td>\n",
       "      <td>4</td>\n",
       "      <td>21.0</td>\n",
       "      <td>24.0</td>\n",
       "      <td>55</td>\n",
       "      <td>80</td>\n",
       "    </tr>\n",
       "    <tr>\n",
       "      <th>7</th>\n",
       "      <td>Papillon</td>\n",
       "      <td>Brightest Dogs</td>\n",
       "      <td>95.0</td>\n",
       "      <td>1</td>\n",
       "      <td>4</td>\n",
       "      <td>8.0</td>\n",
       "      <td>11.0</td>\n",
       "      <td>5</td>\n",
       "      <td>10</td>\n",
       "    </tr>\n",
       "  </tbody>\n",
       "</table>\n",
       "</div>"
      ],
      "text/plain": [
       "                Breed  Classification  obey  reps_lower  reps_upper  \\\n",
       "0       Border Collie  Brightest Dogs  95.0           1           4   \n",
       "3    Golden Retriever  Brightest Dogs  95.0           1           4   \n",
       "4   Doberman Pinscher  Brightest Dogs  95.0           1           4   \n",
       "6  Labrador Retriever  Brightest Dogs  95.0           1           4   \n",
       "7            Papillon  Brightest Dogs  95.0           1           4   \n",
       "\n",
       "   height_low_inches  height_high_inches  weight_low_lbs  weight_high_lbs  \n",
       "0               19.0                21.0              40               40  \n",
       "3               21.0                24.0              55               75  \n",
       "4               26.0                28.0              60              100  \n",
       "6               21.0                24.0              55               80  \n",
       "7                8.0                11.0               5               10  "
      ]
     },
     "execution_count": 117,
     "metadata": {},
     "output_type": "execute_result"
    }
   ],
   "source": [
    "\n",
    "# remove % from the obey field and change the data type to numeric.\n",
    "df['obey'] = pd.to_numeric(df['obey'].astype(str).map(lambda x: x.lstrip('%').rstrip('%')), errors='coerce', downcast='signed')\n",
    "# convert other required fields to related numeric field.\n",
    "df['height_low_inches'] = df['height_low_inches'].astype(float)\n",
    "df['height_high_inches'] = df['height_high_inches'].astype(float)\n",
    "df['weight_low_lbs'] = df['weight_low_lbs'].astype(int)\n",
    "df['weight_high_lbs'] = df['weight_high_lbs'].astype(int)\n",
    "\n",
    "df.head()"
   ]
  },
  {
   "cell_type": "markdown",
   "id": "a83bc93b",
   "metadata": {},
   "source": [
    "After convertion, we can perform aggretaion operation and we can do other mathematical processes on the data. Let's group the data and check the situation:"
   ]
  },
  {
   "cell_type": "code",
   "execution_count": 118,
   "id": "1f5ee546",
   "metadata": {},
   "outputs": [
    {
     "data": {
      "text/html": [
       "<div>\n",
       "<style scoped>\n",
       "    .dataframe tbody tr th:only-of-type {\n",
       "        vertical-align: middle;\n",
       "    }\n",
       "\n",
       "    .dataframe tbody tr th {\n",
       "        vertical-align: top;\n",
       "    }\n",
       "\n",
       "    .dataframe thead tr th {\n",
       "        text-align: left;\n",
       "    }\n",
       "\n",
       "    .dataframe thead tr:last-of-type th {\n",
       "        text-align: right;\n",
       "    }\n",
       "</style>\n",
       "<table border=\"1\" class=\"dataframe\">\n",
       "  <thead>\n",
       "    <tr>\n",
       "      <th></th>\n",
       "      <th></th>\n",
       "      <th>obey</th>\n",
       "    </tr>\n",
       "    <tr>\n",
       "      <th></th>\n",
       "      <th></th>\n",
       "      <th>mean</th>\n",
       "    </tr>\n",
       "    <tr>\n",
       "      <th>reps_lower</th>\n",
       "      <th>reps_upper</th>\n",
       "      <th></th>\n",
       "    </tr>\n",
       "  </thead>\n",
       "  <tbody>\n",
       "    <tr>\n",
       "      <th>1</th>\n",
       "      <th>4</th>\n",
       "      <td>95.0</td>\n",
       "    </tr>\n",
       "    <tr>\n",
       "      <th>5</th>\n",
       "      <th>15</th>\n",
       "      <td>85.0</td>\n",
       "    </tr>\n",
       "    <tr>\n",
       "      <th>16</th>\n",
       "      <th>25</th>\n",
       "      <td>70.0</td>\n",
       "    </tr>\n",
       "    <tr>\n",
       "      <th>26</th>\n",
       "      <th>40</th>\n",
       "      <td>50.0</td>\n",
       "    </tr>\n",
       "    <tr>\n",
       "      <th>41</th>\n",
       "      <th>80</th>\n",
       "      <td>30.0</td>\n",
       "    </tr>\n",
       "    <tr>\n",
       "      <th>81</th>\n",
       "      <th>100</th>\n",
       "      <td>NaN</td>\n",
       "    </tr>\n",
       "  </tbody>\n",
       "</table>\n",
       "</div>"
      ],
      "text/plain": [
       "                       obey\n",
       "                       mean\n",
       "reps_lower reps_upper      \n",
       "1          4           95.0\n",
       "5          15          85.0\n",
       "16         25          70.0\n",
       "26         40          50.0\n",
       "41         80          30.0\n",
       "81         100          NaN"
      ]
     },
     "execution_count": 118,
     "metadata": {},
     "output_type": "execute_result"
    }
   ],
   "source": [
    "# We will check the missing values based on the reps\n",
    "df[['reps_lower', 'reps_upper', 'obey']].groupby(['reps_lower', 'reps_upper']).agg(['mean'])"
   ]
  },
  {
   "cell_type": "code",
   "execution_count": 119,
   "id": "452fdd09",
   "metadata": {},
   "outputs": [
    {
     "data": {
      "text/plain": [
       "(9, 9)"
      ]
     },
     "execution_count": 119,
     "metadata": {},
     "output_type": "execute_result"
    }
   ],
   "source": [
    "# Totally missing value count\n",
    "df.query('obey.isnull()').shape"
   ]
  },
  {
   "cell_type": "markdown",
   "id": "8af237ed",
   "metadata": {},
   "source": [
    "We have multiple missing rows but when we group the data based on the reps we have just one group is missing and also it seems there is reciprocal proportion relation between reps and obey field. So we may find a formula to impute the missing values.\n",
    "\n"
   ]
  },
  {
   "cell_type": "code",
   "execution_count": 120,
   "id": "c7c5ef92",
   "metadata": {},
   "outputs": [
    {
     "data": {
      "text/html": [
       "<div>\n",
       "<style scoped>\n",
       "    .dataframe tbody tr th:only-of-type {\n",
       "        vertical-align: middle;\n",
       "    }\n",
       "\n",
       "    .dataframe tbody tr th {\n",
       "        vertical-align: top;\n",
       "    }\n",
       "\n",
       "    .dataframe thead th {\n",
       "        text-align: right;\n",
       "    }\n",
       "</style>\n",
       "<table border=\"1\" class=\"dataframe\">\n",
       "  <thead>\n",
       "    <tr style=\"text-align: right;\">\n",
       "      <th></th>\n",
       "      <th>Breed</th>\n",
       "      <th>Classification</th>\n",
       "      <th>obey</th>\n",
       "      <th>reps_lower</th>\n",
       "      <th>reps_upper</th>\n",
       "      <th>height_low_inches</th>\n",
       "      <th>height_high_inches</th>\n",
       "      <th>weight_low_lbs</th>\n",
       "      <th>weight_high_lbs</th>\n",
       "    </tr>\n",
       "  </thead>\n",
       "  <tbody>\n",
       "    <tr>\n",
       "      <th>0</th>\n",
       "      <td>Border Collie</td>\n",
       "      <td>Brightest Dogs</td>\n",
       "      <td>95.0</td>\n",
       "      <td>1</td>\n",
       "      <td>4</td>\n",
       "      <td>19.0</td>\n",
       "      <td>21.0</td>\n",
       "      <td>40</td>\n",
       "      <td>40</td>\n",
       "    </tr>\n",
       "    <tr>\n",
       "      <th>3</th>\n",
       "      <td>Golden Retriever</td>\n",
       "      <td>Brightest Dogs</td>\n",
       "      <td>95.0</td>\n",
       "      <td>1</td>\n",
       "      <td>4</td>\n",
       "      <td>21.0</td>\n",
       "      <td>24.0</td>\n",
       "      <td>55</td>\n",
       "      <td>75</td>\n",
       "    </tr>\n",
       "    <tr>\n",
       "      <th>4</th>\n",
       "      <td>Doberman Pinscher</td>\n",
       "      <td>Brightest Dogs</td>\n",
       "      <td>95.0</td>\n",
       "      <td>1</td>\n",
       "      <td>4</td>\n",
       "      <td>26.0</td>\n",
       "      <td>28.0</td>\n",
       "      <td>60</td>\n",
       "      <td>100</td>\n",
       "    </tr>\n",
       "    <tr>\n",
       "      <th>6</th>\n",
       "      <td>Labrador Retriever</td>\n",
       "      <td>Brightest Dogs</td>\n",
       "      <td>95.0</td>\n",
       "      <td>1</td>\n",
       "      <td>4</td>\n",
       "      <td>21.0</td>\n",
       "      <td>24.0</td>\n",
       "      <td>55</td>\n",
       "      <td>80</td>\n",
       "    </tr>\n",
       "    <tr>\n",
       "      <th>7</th>\n",
       "      <td>Papillon</td>\n",
       "      <td>Brightest Dogs</td>\n",
       "      <td>95.0</td>\n",
       "      <td>1</td>\n",
       "      <td>4</td>\n",
       "      <td>8.0</td>\n",
       "      <td>11.0</td>\n",
       "      <td>5</td>\n",
       "      <td>10</td>\n",
       "    </tr>\n",
       "  </tbody>\n",
       "</table>\n",
       "</div>"
      ],
      "text/plain": [
       "                Breed  Classification  obey  reps_lower  reps_upper  \\\n",
       "0       Border Collie  Brightest Dogs  95.0           1           4   \n",
       "3    Golden Retriever  Brightest Dogs  95.0           1           4   \n",
       "4   Doberman Pinscher  Brightest Dogs  95.0           1           4   \n",
       "6  Labrador Retriever  Brightest Dogs  95.0           1           4   \n",
       "7            Papillon  Brightest Dogs  95.0           1           4   \n",
       "\n",
       "   height_low_inches  height_high_inches  weight_low_lbs  weight_high_lbs  \n",
       "0               19.0                21.0              40               40  \n",
       "3               21.0                24.0              55               75  \n",
       "4               26.0                28.0              60              100  \n",
       "6               21.0                24.0              55               80  \n",
       "7                8.0                11.0               5               10  "
      ]
     },
     "execution_count": 120,
     "metadata": {},
     "output_type": "execute_result"
    }
   ],
   "source": [
    "#df['avg_reps'] = (df['reps_lower'] + df['reps_upper']) / 2 \n",
    "#df['grouped_mean'] = df.groupby('avg_reps')['obey'].transform('mean')\n",
    "#df['xxx'] = (df['avg_reps'] * df['grouped_mean'])  / 90.5\n",
    "\n",
    "\n",
    "df.head()\n",
    "df = df.fillna(13)\n",
    "\n",
    "\n",
    "df.head()"
   ]
  },
  {
   "cell_type": "code",
   "execution_count": 121,
   "id": "a3f2d022",
   "metadata": {},
   "outputs": [],
   "source": [
    "#row_count=df[['avg_reps', 'obey']].groupby(['avg_reps']).agg(['mean']).shape[0] - 1\n",
    "#missing_value=90,5\n",
    "#su = df[['avg_reps', 'obey']].groupby(['avg_reps']).agg(['mean'])\n",
    "#su.columns[0][1]\n",
    "#du = su.rename(columns={su.columns[0]: 'test_col'})\n",
    "#type(du)\n",
    "\n",
    "\n",
    "\n"
   ]
  },
  {
   "cell_type": "code",
   "execution_count": 124,
   "id": "665cfb79",
   "metadata": {},
   "outputs": [
    {
     "data": {
      "image/png": "[encoded data removed]",
      "text/plain": [
       "<Figure size 432x288 with 9 Axes>"
      ]
     },
     "metadata": {
      "needs_background": "light"
     },
     "output_type": "display_data"
    }
   ],
   "source": [
    "df.hist();"
   ]
  },
  {
   "cell_type": "markdown",
   "id": "afe222b5",
   "metadata": {},
   "source": [
    "So it's a good practice visualize for interpreting the data. We use searborn library for visualizing. With heat __heap__ method we can see the correlated relation between the fields."
   ]
  },
  {
   "cell_type": "code",
   "execution_count": 22,
   "id": "69500f71",
   "metadata": {},
   "outputs": [
    {
     "data": {
      "image/png": "[encoded data removed]",
      "text/plain": [
       "<Figure size 432x288 with 2 Axes>"
      ]
     },
     "metadata": {
      "needs_background": "light"
     },
     "output_type": "display_data"
    }
   ],
   "source": [
    "sns.heatmap(df.corr(), annot=True);"
   ]
  },
  {
   "cell_type": "markdown",
   "id": "22a2bae3",
   "metadata": {},
   "source": [
    "It seems Reps info (lower - upper), hight (low - high) and also weight (low - high) almost same. We may merge those data info one column to simplify data."
   ]
  },
  {
   "cell_type": "code",
   "execution_count": 23,
   "id": "750033ef",
   "metadata": {},
   "outputs": [
    {
     "data": {
      "text/html": [
       "<div>\n",
       "<style scoped>\n",
       "    .dataframe tbody tr th:only-of-type {\n",
       "        vertical-align: middle;\n",
       "    }\n",
       "\n",
       "    .dataframe tbody tr th {\n",
       "        vertical-align: top;\n",
       "    }\n",
       "\n",
       "    .dataframe thead th {\n",
       "        text-align: right;\n",
       "    }\n",
       "</style>\n",
       "<table border=\"1\" class=\"dataframe\">\n",
       "  <thead>\n",
       "    <tr style=\"text-align: right;\">\n",
       "      <th></th>\n",
       "      <th>Breed</th>\n",
       "      <th>Classification</th>\n",
       "      <th>obey</th>\n",
       "      <th>reps_lower</th>\n",
       "      <th>reps_upper</th>\n",
       "      <th>height_low_inches</th>\n",
       "      <th>height_high_inches</th>\n",
       "      <th>weight_low_lbs</th>\n",
       "      <th>weight_high_lbs</th>\n",
       "      <th>avg_reps</th>\n",
       "      <th>avg_height</th>\n",
       "      <th>avg_weight</th>\n",
       "    </tr>\n",
       "  </thead>\n",
       "  <tbody>\n",
       "    <tr>\n",
       "      <th>0</th>\n",
       "      <td>Border Collie</td>\n",
       "      <td>Brightest Dogs</td>\n",
       "      <td>95.0</td>\n",
       "      <td>1</td>\n",
       "      <td>4</td>\n",
       "      <td>19.0</td>\n",
       "      <td>21.0</td>\n",
       "      <td>40</td>\n",
       "      <td>40</td>\n",
       "      <td>2.5</td>\n",
       "      <td>20.0</td>\n",
       "      <td>40.0</td>\n",
       "    </tr>\n",
       "    <tr>\n",
       "      <th>3</th>\n",
       "      <td>Golden Retriever</td>\n",
       "      <td>Brightest Dogs</td>\n",
       "      <td>95.0</td>\n",
       "      <td>1</td>\n",
       "      <td>4</td>\n",
       "      <td>21.0</td>\n",
       "      <td>24.0</td>\n",
       "      <td>55</td>\n",
       "      <td>75</td>\n",
       "      <td>2.5</td>\n",
       "      <td>22.5</td>\n",
       "      <td>65.0</td>\n",
       "    </tr>\n",
       "    <tr>\n",
       "      <th>4</th>\n",
       "      <td>Doberman Pinscher</td>\n",
       "      <td>Brightest Dogs</td>\n",
       "      <td>95.0</td>\n",
       "      <td>1</td>\n",
       "      <td>4</td>\n",
       "      <td>26.0</td>\n",
       "      <td>28.0</td>\n",
       "      <td>60</td>\n",
       "      <td>100</td>\n",
       "      <td>2.5</td>\n",
       "      <td>27.0</td>\n",
       "      <td>80.0</td>\n",
       "    </tr>\n",
       "    <tr>\n",
       "      <th>6</th>\n",
       "      <td>Labrador Retriever</td>\n",
       "      <td>Brightest Dogs</td>\n",
       "      <td>95.0</td>\n",
       "      <td>1</td>\n",
       "      <td>4</td>\n",
       "      <td>21.0</td>\n",
       "      <td>24.0</td>\n",
       "      <td>55</td>\n",
       "      <td>80</td>\n",
       "      <td>2.5</td>\n",
       "      <td>22.5</td>\n",
       "      <td>67.5</td>\n",
       "    </tr>\n",
       "    <tr>\n",
       "      <th>7</th>\n",
       "      <td>Papillon</td>\n",
       "      <td>Brightest Dogs</td>\n",
       "      <td>95.0</td>\n",
       "      <td>1</td>\n",
       "      <td>4</td>\n",
       "      <td>8.0</td>\n",
       "      <td>11.0</td>\n",
       "      <td>5</td>\n",
       "      <td>10</td>\n",
       "      <td>2.5</td>\n",
       "      <td>9.5</td>\n",
       "      <td>7.5</td>\n",
       "    </tr>\n",
       "  </tbody>\n",
       "</table>\n",
       "</div>"
      ],
      "text/plain": [
       "                Breed  Classification  obey  reps_lower  reps_upper  \\\n",
       "0       Border Collie  Brightest Dogs  95.0           1           4   \n",
       "3    Golden Retriever  Brightest Dogs  95.0           1           4   \n",
       "4   Doberman Pinscher  Brightest Dogs  95.0           1           4   \n",
       "6  Labrador Retriever  Brightest Dogs  95.0           1           4   \n",
       "7            Papillon  Brightest Dogs  95.0           1           4   \n",
       "\n",
       "   height_low_inches  height_high_inches  weight_low_lbs  weight_high_lbs  \\\n",
       "0               19.0                21.0              40               40   \n",
       "3               21.0                24.0              55               75   \n",
       "4               26.0                28.0              60              100   \n",
       "6               21.0                24.0              55               80   \n",
       "7                8.0                11.0               5               10   \n",
       "\n",
       "   avg_reps  avg_height  avg_weight  \n",
       "0       2.5        20.0        40.0  \n",
       "3       2.5        22.5        65.0  \n",
       "4       2.5        27.0        80.0  \n",
       "6       2.5        22.5        67.5  \n",
       "7       2.5         9.5         7.5  "
      ]
     },
     "execution_count": 23,
     "metadata": {},
     "output_type": "execute_result"
    }
   ],
   "source": [
    "# find averages for the related data pairs\n",
    "df['avg_reps'] = (df['reps_lower'] + df['reps_upper']) / 2 \n",
    "df['avg_height'] = (df['height_low_inches'] + df['height_high_inches']) / 2 \n",
    "df['avg_weight'] = (df['weight_low_lbs'] + df['weight_high_lbs']) / 2 \n",
    "df.head()"
   ]
  },
  {
   "cell_type": "code",
   "execution_count": 24,
   "id": "ff4f0a78",
   "metadata": {},
   "outputs": [
    {
     "data": {
      "text/html": [
       "<div>\n",
       "<style scoped>\n",
       "    .dataframe tbody tr th:only-of-type {\n",
       "        vertical-align: middle;\n",
       "    }\n",
       "\n",
       "    .dataframe tbody tr th {\n",
       "        vertical-align: top;\n",
       "    }\n",
       "\n",
       "    .dataframe thead th {\n",
       "        text-align: right;\n",
       "    }\n",
       "</style>\n",
       "<table border=\"1\" class=\"dataframe\">\n",
       "  <thead>\n",
       "    <tr style=\"text-align: right;\">\n",
       "      <th></th>\n",
       "      <th>Breed</th>\n",
       "      <th>Classification</th>\n",
       "      <th>obey</th>\n",
       "      <th>avg_reps</th>\n",
       "      <th>avg_height</th>\n",
       "      <th>avg_weight</th>\n",
       "    </tr>\n",
       "  </thead>\n",
       "  <tbody>\n",
       "    <tr>\n",
       "      <th>0</th>\n",
       "      <td>Border Collie</td>\n",
       "      <td>Brightest Dogs</td>\n",
       "      <td>95.0</td>\n",
       "      <td>2.5</td>\n",
       "      <td>20.0</td>\n",
       "      <td>40.0</td>\n",
       "    </tr>\n",
       "    <tr>\n",
       "      <th>3</th>\n",
       "      <td>Golden Retriever</td>\n",
       "      <td>Brightest Dogs</td>\n",
       "      <td>95.0</td>\n",
       "      <td>2.5</td>\n",
       "      <td>22.5</td>\n",
       "      <td>65.0</td>\n",
       "    </tr>\n",
       "    <tr>\n",
       "      <th>4</th>\n",
       "      <td>Doberman Pinscher</td>\n",
       "      <td>Brightest Dogs</td>\n",
       "      <td>95.0</td>\n",
       "      <td>2.5</td>\n",
       "      <td>27.0</td>\n",
       "      <td>80.0</td>\n",
       "    </tr>\n",
       "    <tr>\n",
       "      <th>6</th>\n",
       "      <td>Labrador Retriever</td>\n",
       "      <td>Brightest Dogs</td>\n",
       "      <td>95.0</td>\n",
       "      <td>2.5</td>\n",
       "      <td>22.5</td>\n",
       "      <td>67.5</td>\n",
       "    </tr>\n",
       "    <tr>\n",
       "      <th>7</th>\n",
       "      <td>Papillon</td>\n",
       "      <td>Brightest Dogs</td>\n",
       "      <td>95.0</td>\n",
       "      <td>2.5</td>\n",
       "      <td>9.5</td>\n",
       "      <td>7.5</td>\n",
       "    </tr>\n",
       "  </tbody>\n",
       "</table>\n",
       "</div>"
      ],
      "text/plain": [
       "                Breed  Classification  obey  avg_reps  avg_height  avg_weight\n",
       "0       Border Collie  Brightest Dogs  95.0       2.5        20.0        40.0\n",
       "3    Golden Retriever  Brightest Dogs  95.0       2.5        22.5        65.0\n",
       "4   Doberman Pinscher  Brightest Dogs  95.0       2.5        27.0        80.0\n",
       "6  Labrador Retriever  Brightest Dogs  95.0       2.5        22.5        67.5\n",
       "7            Papillon  Brightest Dogs  95.0       2.5         9.5         7.5"
      ]
     },
     "execution_count": 24,
     "metadata": {},
     "output_type": "execute_result"
    }
   ],
   "source": [
    "# Drop redundant fields to simplify data\n",
    "df = df.rop(['reps_lower', 'reps_upper', 'height_low_inches', 'height_high_inches', 'weight_low_lbs', 'weight_high_lbs'], axis=1)\n",
    "df.head()"
   ]
  }
 ],
 "metadata": {
  "kernelspec": {
   "display_name": "Python 3",
   "language": "python",
   "name": "python3"
  },
  "language_info": {
   "codemirror_mode": {
    "name": "ipython",
    "version": 3
   },
   "file_extension": ".py",
   "mimetype": "text/x-python",
   "name": "python",
   "nbconvert_exporter": "python",
   "pygments_lexer": "ipython3",
   "version": "3.8.5"
  }
 },
 "nbformat": 4,
 "nbformat_minor": 5
}
